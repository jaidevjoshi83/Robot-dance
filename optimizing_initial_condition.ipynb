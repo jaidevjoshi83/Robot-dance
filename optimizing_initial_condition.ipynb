{
 "cells": [
  {
   "cell_type": "code",
   "execution_count": 7,
   "metadata": {},
   "outputs": [
    {
     "data": {
      "text/plain": [
       "<PyCall.jlwrap fit_initial>"
      ]
     },
     "execution_count": 7,
     "metadata": {},
     "output_type": "execute_result"
    }
   ],
   "source": [
    "import sys\n",
    "sys.path.append('./gustavos_code/initial')\n",
    "import seir\n",
    "import pandas as pd\n",
    "import numpy as np\n",
    "import numpy.linalg as la\n",
    "import matplotlib.pyplot as plt\n",
    "%matplotlib inline\n",
    "\n",
    "# To use PyJulia\n",
    "from julia.api import Julia\n",
    "jl = Julia(compiled_modules=False)\n",
    "from julia import Main as Julia\n",
    "Julia.eval('include(\"la_dança.jl\")')"
   ]
  },
  {
   "cell_type": "code",
   "execution_count": 8,
   "metadata": {},
   "outputs": [],
   "source": [
    "# Configuration\n",
    "tinc = 2.9\n",
    "tinf = 5.2\n",
    "covid_window = int(round(tinc*tinf))\n",
    "min_days = 5"
   ]
  },
  {
   "cell_type": "code",
   "execution_count": 9,
   "metadata": {},
   "outputs": [],
   "source": [
    "# Read data and define what are the cities of interest\n",
    "covid_data = pd.read_csv(\"/home/pjssilva/nuvem/unicamp/compartilhados/ICMCxCovid/Data/covid_with_cities.csv\")\n",
    "covid_data = covid_data[covid_data[\"state\"] == \"SP\"]\n",
    "large_cities = covid_data[covid_data[\"estimated_population_2019\"] > 100000][\"city\"].unique()"
   ]
  },
  {
   "cell_type": "code",
   "execution_count": 10,
   "metadata": {},
   "outputs": [],
   "source": [
    "def initial_conditions(city, covid_data, covid_window, min_days, Julia):\n",
    "    # Gets the city data\n",
    "    city_data = covid_data[covid_data[\"city\"] == city].copy()\n",
    "    city_data.reset_index(inplace=True)\n",
    "    city_data.sort_values(by=[\"date\"], inplace=True)\n",
    "    population = city_data[\"estimated_population_2019\"].iloc[0]\n",
    "    confirmed = city_data[\"confirmed\"]\n",
    "\n",
    "    # I am computing the new cases instead of using the new_confirmed column because\n",
    "    # there is error at least in the first element for São Paulo. It should be 1.\n",
    "    new_cases = confirmed.values[1:] - confirmed.values[:-1]\n",
    "    new_cases = np.append(confirmed[0], new_cases)\n",
    "    city_data[\"new_cases\"] = new_cases\n",
    "    \n",
    "    observed_I = city_data[\"new_cases\"].rolling(covid_window).sum()\n",
    "    observed_I[:covid_window] = confirmed[:covid_window]\n",
    "    if len(observed_I) >= min_days:\n",
    "        observed_I /= population\n",
    "        Julia.observed_I = observed_I.values\n",
    "        Julia.eval('initialc = fit_initial(observed_I)')\n",
    "        S0 = Julia.initialc[0]\n",
    "        E0 = Julia.initialc[1]\n",
    "        I0 = Julia.initialc[2]\n",
    "        R0 = Julia.initialc[3]\n",
    "        return (S0, E0, I0, R0), observed_I\n",
    "    else:\n",
    "        raise ValueError(\"Not enough data for %s only %d days available\" % (city, len(observed_I)))   "
   ]
  },
  {
   "cell_type": "code",
   "execution_count": 11,
   "metadata": {},
   "outputs": [
    {
     "name": "stdout",
     "output_type": "stream",
     "text": [
      "1/34 Americana\n",
      "2/34 Araraquara\n",
      "3/34 Barueri\n",
      "4/34 Bauru\n",
      "5/34 Campinas\n",
      "6/34 Carapicuíba\n",
      "7/34 Diadema\n",
      "8/34 Embu Das Artes\n",
      "9/34 Franca\n",
      "10/34 Guarujá\n",
      "11/34 Guarulhos\n",
      "12/34 Itaquaquecetuba\n",
      "13/34 Jundiaí\n",
      "14/34 Limeira\n",
      "15/34 Marília\n",
      "16/34 Mauá\n",
      "17/34 Mogi Das Cruzes\n",
      "18/34 Osasco\n",
      "19/34 Piracicaba\n",
      "20/34 Praia Grande\n",
      "21/34 Ribeirão Preto\n",
      "22/34 Santo André\n",
      "23/34 Santos\n",
      "24/34 Sorocaba\n",
      "25/34 Sumaré\n",
      "Ignoring  Sumaré not enough data.\n",
      "26/34 Suzano\n",
      "27/34 São Bernardo Do Campo\n",
      "28/34 São Carlos\n",
      "Ignoring  São Carlos not enough data.\n",
      "29/34 São José Do Rio Preto\n",
      "30/34 São José Dos Campos\n",
      "31/34 São Paulo\n",
      "32/34 São Vicente\n",
      "33/34 Taboão Da Serra\n",
      "34/34 Taubaté\n",
      "CPU times: user 5.04 s, sys: 72.2 ms, total: 5.12 s\n",
      "Wall time: 5.11 s\n"
     ]
    }
   ],
   "source": [
    "%%time\n",
    "\n",
    "parameters = {}\n",
    "ignored = []\n",
    "\n",
    "n_cities = len(large_cities)\n",
    "for i in range(n_cities):\n",
    "    c = large_cities[i]\n",
    "    print(\"%d/%d\" %(i + 1, n_cities), c)\n",
    "    try:\n",
    "        parameters[c], observed_I = initial_conditions(c, covid_data, covid_window, min_days, Julia)\n",
    "    except ValueError:\n",
    "        print(\"Ignoring \", c, \"not enough data.\")\n",
    "        ignored.append(c)"
   ]
  },
  {
   "cell_type": "code",
   "execution_count": 12,
   "metadata": {},
   "outputs": [
    {
     "name": "stdout",
     "output_type": "stream",
     "text": [
      "Error = 3.763230689521231e-11\n",
      "Feasibility error = 0.0\n"
     ]
    },
    {
     "data": {
      "image/png": "[encoded data removed]",
      "text/plain": [
       "<Figure size 432x288 with 1 Axes>"
      ]
     },
     "metadata": {
      "needs_background": "light"
     },
     "output_type": "display_data"
    }
   ],
   "source": [
    "def error(x, y):\n",
    "    return la.norm(x - y)**2\n",
    "\n",
    "c = \"Araraquara\"\n",
    "\n",
    "city_data = covid_data[covid_data[\"city\"] == c].copy()\n",
    "city_data.reset_index(inplace=True)\n",
    "city_data.sort_values(by=[\"date\"], inplace=True)\n",
    "population = city_data[\"estimated_population_2019\"].iloc[0]\n",
    "confirmed = city_data[\"confirmed\"]\n",
    "\n",
    "# I am computing the new cases instead of using the new_confirmed column because\n",
    "# there is error at least in the first element for São Paulo. It should be 1.\n",
    "new_cases = confirmed.values[1:] - confirmed.values[:-1]\n",
    "new_cases = np.append(confirmed[0], new_cases)\n",
    "city_data[\"new_cases\"] = new_cases\n",
    "\n",
    "observed_I = city_data[\"new_cases\"].rolling(covid_window).sum()\n",
    "observed_I[:covid_window] = confirmed[:covid_window]\n",
    "observed_I /= population\n",
    "    \n",
    "ndays = len(observed_I)\n",
    "S0, E0, I0, R0 = parameters[c]\n",
    "covid = seir.seir(ndays)\n",
    "result = covid.run((S0,E0,I0,R0))\n",
    "    \n",
    "plt.plot(np.arange(ndays), population*result[2,:], label='seir - Julia')\n",
    "plt.plot(np.arange(ndays), population*observed_I.values, label=c)\n",
    "plt.legend()\n",
    "print(\"Error =\", error(result[2,:], observed_I))\n",
    "print(\"Feasibility error =\", np.abs(1.0 - np.array((S0, E0, I0, R0)).sum()))"
   ]
  },
  {
   "cell_type": "code",
   "execution_count": null,
   "metadata": {},
   "outputs": [],
   "source": []
  }
 ],
 "metadata": {
  "kernelspec": {
   "display_name": "Python 3",
   "language": "python",
   "name": "python3"
  },
  "language_info": {
   "codemirror_mode": {
    "name": "ipython",
    "version": 3
   },
   "file_extension": ".py",
   "mimetype": "text/x-python",
   "name": "python",
   "nbconvert_exporter": "python",
   "pygments_lexer": "ipython3",
   "version": "3.7.7"
  }
 },
 "nbformat": 4,
 "nbformat_minor": 2
}
